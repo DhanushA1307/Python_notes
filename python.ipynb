{
 "cells": [
  {
   "cell_type": "markdown",
   "metadata": {},
   "source": [
    "Basics of Python Programming Language"
   ]
  },
  {
   "cell_type": "markdown",
   "metadata": {},
   "source": [
    "Getting Input and printing the Output"
   ]
  },
  {
   "cell_type": "code",
   "execution_count": 2,
   "metadata": {},
   "outputs": [
    {
     "name": "stdout",
     "output_type": "stream",
     "text": [
      "1\n"
     ]
    }
   ],
   "source": [
    "A = int(input()) #Getting the Input as an integer\n",
    "print(A) #printing the output from the user"
   ]
  },
  {
   "cell_type": "code",
   "execution_count": null,
   "metadata": {},
   "outputs": [],
   "source": [
    "B = input() #Getting the Input as string\n",
    "print(B) #Prints the output from the user"
   ]
  },
  {
   "cell_type": "code",
   "execution_count": null,
   "metadata": {},
   "outputs": [],
   "source": [
    "def line1(i_pos, j_pos, N, L):\n",
    "    if(i_pos-1 == -1):\n",
    "        print(L[i_pos][j_pos], end = \"\\n\")\n",
    "        return\n",
    "    \n",
    "    while(i_pos >= 0):\n",
    "        print(L[i_pos][j_pos], end = \" \")\n",
    "        i_pos -= 1\n",
    "    i_pos += 1 \n",
    "    j_pos += 1\n",
    "    while(j_pos < N):\n",
    "        print(L[i_pos][j_pos], end = \" \")\n",
    "        j_pos += 1\n",
    "    print()\n",
    "\n",
    "def line2(i_pos, j_pos, N, L):\n",
    "    if(j_pos == N-1):\n",
    "        print(L[i_pos][j_pos], end = \"\\n\");\n",
    "        return\n",
    "    \n",
    "    while(j_pos < N):\n",
    "        print(L[i_pos][j_pos], end = \" \")\n",
    "        j_pos += 1\n",
    "    i_pos += 1\n",
    "    j_pos -= 1\n",
    "    while(i_pos < N):\n",
    "        print(L[i_pos][j_pos], end = \" \")\n",
    "        i_pos += 1\n",
    "    print()\n",
    "\n",
    "def line3(i_pos, j_pos, N, L):\n",
    "    if(i_pos == N-1):\n",
    "        print(L[i_pos][j_pos], end = \"\\n\")\n",
    "        return\n",
    "    \n",
    "    while(i_pos < N):\n",
    "        print(L[i_pos][j_pos], end = \" \")\n",
    "        i_pos += 1\n",
    "    i_pos -= 1\n",
    "    j_pos -= 1\n",
    "    while(j_pos >= 0):\n",
    "        print(L[i_pos][j_pos], end = \" \")\n",
    "        j_pos -= 1\n",
    "    print()\n",
    "\n",
    "def line4(i_pos, j_pos, N, L):\n",
    "    if(j_pos-1 == -1):\n",
    "        print(L[i_pos][j_pos], end = \"\\n\")\n",
    "        return\n",
    "    \n",
    "    while j_pos >= 0:\n",
    "        print(L[i_pos][j_pos], end = \" \");\n",
    "        j_pos -= 1\n",
    "    i_pos -= 1\n",
    "    j_pos += 1\n",
    "    while i_pos >= 0:\n",
    "        print(L[i_pos][j_pos], end = \" \")\n",
    "        i_pos -= 1\n",
    "\n",
    "if __name__ == \"__main__\": # Entry Point of the function\n",
    "    N, X = map(int, input().split())\n",
    "    L = []\n",
    "    \n",
    "    for _ in range(N):\n",
    "        L.append(list(map(int, input().split())))\n",
    "    \n",
    "    i_pos, j_pos = 0,0\n",
    "    \n",
    "    for i in range(N):\n",
    "        cond = True\n",
    "        for j in range(N):\n",
    "            if L[i][j] == X:\n",
    "                i_pos, j_pos = i,j\n",
    "                cond = False\n",
    "                break\n",
    "        if(not cond):\n",
    "            break\n",
    "    \n",
    "    line1(i_pos, j_pos, N, L)\n",
    "    line2(i_pos, j_pos, N, L)\n",
    "    line3(i_pos, j_pos, N, L)\n",
    "    line4(i_pos, j_pos, N, L)"
   ]
  },
  {
   "cell_type": "markdown",
   "metadata": {},
   "source": [
    "Classes"
   ]
  },
  {
   "cell_type": "code",
   "execution_count": 5,
   "metadata": {},
   "outputs": [
    {
     "ename": "TypeError",
     "evalue": "Student() takes no arguments",
     "output_type": "error",
     "traceback": [
      "\u001b[1;31m---------------------------------------------------------------------------\u001b[0m",
      "\u001b[1;31mTypeError\u001b[0m                                 Traceback (most recent call last)",
      "Cell \u001b[1;32mIn[5], line 11\u001b[0m\n\u001b[0;32m      7\u001b[0m     \u001b[38;5;28;01mdef\u001b[39;00m \u001b[38;5;21mshowData\u001b[39m(\u001b[38;5;28mself\u001b[39m):\n\u001b[0;32m      8\u001b[0m         \u001b[38;5;28mprint\u001b[39m(\u001b[38;5;28mself\u001b[39m\u001b[38;5;241m.\u001b[39mroll_no, \u001b[38;5;28mself\u001b[39m\u001b[38;5;241m.\u001b[39mname, \u001b[38;5;28mself\u001b[39m\u001b[38;5;241m.\u001b[39mcourse)\n\u001b[1;32m---> 11\u001b[0m \u001b[38;5;28mprint\u001b[39m(\u001b[43mStudent\u001b[49m\u001b[43m(\u001b[49m\u001b[38;5;241;43m101\u001b[39;49m\u001b[43m,\u001b[49m\u001b[43m \u001b[49m\u001b[38;5;124;43m\"\u001b[39;49m\u001b[38;5;124;43mDhanush\u001b[39;49m\u001b[38;5;124;43m\"\u001b[39;49m\u001b[43m,\u001b[49m\u001b[43m \u001b[49m\u001b[38;5;124;43m\"\u001b[39;49m\u001b[38;5;124;43mclass\u001b[39;49m\u001b[38;5;124;43m\"\u001b[39;49m\u001b[43m)\u001b[49m\u001b[38;5;241m.\u001b[39mshowData())\n\u001b[0;32m     12\u001b[0m \u001b[38;5;66;03m# student = Student(101, \"Dhanush\", \"class\")\u001b[39;00m\n\u001b[0;32m     13\u001b[0m \u001b[38;5;66;03m# print(student.showData())\u001b[39;00m\n",
      "\u001b[1;31mTypeError\u001b[0m: Student() takes no arguments"
     ]
    }
   ],
   "source": [
    "class Student:\n",
    "    def __init__(self, roll_no, name, course):\n",
    "        self.roll_no = roll_no\n",
    "        self.name = name\n",
    "        self.course = course\n",
    "\n",
    "    def showData(self):\n",
    "        print(self.roll_no, self.name, self.course)\n",
    "\n",
    "\n",
    "print(Student(101, \"Dhanush\", \"class\").showData())\n",
    "# student = Student(101, \"Dhanush\", \"class\")\n",
    "# print(student.showData())"
   ]
  },
  {
   "cell_type": "code",
   "execution_count": 3,
   "metadata": {},
   "outputs": [
    {
     "name": "stdout",
     "output_type": "stream",
     "text": [
      "10 20 "
     ]
    }
   ],
   "source": [
    "class sample:\n",
    "        x, y = 10, 20\n",
    "    \n",
    "S = sample()\n",
    "print(S.x, S.y, end = \" \")"
   ]
  }
 ],
 "metadata": {
  "kernelspec": {
   "display_name": "Python 3",
   "language": "python",
   "name": "python3"
  },
  "language_info": {
   "codemirror_mode": {
    "name": "ipython",
    "version": 3
   },
   "file_extension": ".py",
   "mimetype": "text/x-python",
   "name": "python",
   "nbconvert_exporter": "python",
   "pygments_lexer": "ipython3",
   "version": "3.12.1"
  }
 },
 "nbformat": 4,
 "nbformat_minor": 2
}
