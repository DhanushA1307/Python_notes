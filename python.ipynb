{
 "cells": [
  {
   "cell_type": "markdown",
   "metadata": {},
   "source": [
    "Basics of Python Programming Language"
   ]
  },
  {
   "cell_type": "markdown",
   "metadata": {},
   "source": [
    "Getting Input and printing the Output"
   ]
  },
  {
   "cell_type": "code",
   "execution_count": 2,
   "metadata": {},
   "outputs": [
    {
     "name": "stdout",
     "output_type": "stream",
     "text": [
      "1\n"
     ]
    }
   ],
   "source": [
    "A = int(input()) #Getting the Input as an integer\n",
    "print(A) #printing the output from the user"
   ]
  },
  {
   "cell_type": "code",
   "execution_count": null,
   "metadata": {},
   "outputs": [],
   "source": [
    "B = input() #Getting the Input as string\n",
    "print(B) #Prints the output from the user"
   ]
  },
  {
   "cell_type": "code",
   "execution_count": null,
   "metadata": {},
   "outputs": [],
   "source": [
    "def line1(i_pos, j_pos, N, L):\n",
    "    if(i_pos-1 == -1):\n",
    "        print(L[i_pos][j_pos], end = \"\\n\")\n",
    "        return\n",
    "    \n",
    "    while(i_pos >= 0):\n",
    "        print(L[i_pos][j_pos], end = \" \")\n",
    "        i_pos -= 1\n",
    "    i_pos += 1 \n",
    "    j_pos += 1\n",
    "    while(j_pos < N):\n",
    "        print(L[i_pos][j_pos], end = \" \")\n",
    "        j_pos += 1\n",
    "    print()\n",
    "\n",
    "def line2(i_pos, j_pos, N, L):\n",
    "    if(j_pos == N-1):\n",
    "        print(L[i_pos][j_pos], end = \"\\n\");\n",
    "        return\n",
    "    \n",
    "    while(j_pos < N):\n",
    "        print(L[i_pos][j_pos], end = \" \")\n",
    "        j_pos += 1\n",
    "    i_pos += 1\n",
    "    j_pos -= 1\n",
    "    while(i_pos < N):\n",
    "        print(L[i_pos][j_pos], end = \" \")\n",
    "        i_pos += 1\n",
    "    print()\n",
    "\n",
    "def line3(i_pos, j_pos, N, L):\n",
    "    if(i_pos == N-1):\n",
    "        print(L[i_pos][j_pos], end = \"\\n\")\n",
    "        return\n",
    "    \n",
    "    while(i_pos < N):\n",
    "        print(L[i_pos][j_pos], end = \" \")\n",
    "        i_pos += 1\n",
    "    i_pos -= 1\n",
    "    j_pos -= 1\n",
    "    while(j_pos >= 0):\n",
    "        print(L[i_pos][j_pos], end = \" \")\n",
    "        j_pos -= 1\n",
    "    print()\n",
    "\n",
    "def line4(i_pos, j_pos, N, L):\n",
    "    if(j_pos-1 == -1):\n",
    "        print(L[i_pos][j_pos], end = \"\\n\")\n",
    "        return\n",
    "    \n",
    "    while j_pos >= 0:\n",
    "        print(L[i_pos][j_pos], end = \" \");\n",
    "        j_pos -= 1\n",
    "    i_pos -= 1\n",
    "    j_pos += 1\n",
    "    while i_pos >= 0:\n",
    "        print(L[i_pos][j_pos], end = \" \")\n",
    "        i_pos -= 1\n",
    "\n",
    "if __name__ == \"__main__\":\n",
    "    N, X = map(int, input().split())\n",
    "    L = []\n",
    "    \n",
    "    for _ in range(N):\n",
    "        L.append(list(map(int, input().split())))\n",
    "    \n",
    "    i_pos, j_pos = 0,0\n",
    "    \n",
    "    for i in range(N):\n",
    "        cond = True\n",
    "        for j in range(N):\n",
    "            if L[i][j] == X:\n",
    "                i_pos, j_pos = i,j\n",
    "                cond = False\n",
    "                break\n",
    "        if(not cond):\n",
    "            break\n",
    "    \n",
    "    line1(i_pos, j_pos, N, L)\n",
    "    line2(i_pos, j_pos, N, L)\n",
    "    line3(i_pos, j_pos, N, L)\n",
    "    line4(i_pos, j_pos, N, L)"
   ]
  },
  {
   "cell_type": "markdown",
   "metadata": {},
   "source": [
    "Classes"
   ]
  },
  {
   "cell_type": "code",
   "execution_count": null,
   "metadata": {},
   "outputs": [],
   "source": [
    "# class Student:\n",
    "#     def __int__(self, roll_no, name, course):\n",
    "#         self.roll_no = roll_no\n",
    "#         self.name = name\n",
    "#         self.course = course\n",
    "#     def showData(self):\n",
    "#         print(self.roll_no, self.name, self.course)\n",
    "\n",
    "# student = Student()\n",
    "# print(student.showData())"
   ]
  },
  {
   "cell_type": "code",
   "execution_count": 3,
   "metadata": {},
   "outputs": [
    {
     "name": "stdout",
     "output_type": "stream",
     "text": [
      "10 20 "
     ]
    }
   ],
   "source": [
    "class sample:\n",
    "        x, y = 10, 20\n",
    "    \n",
    "S = sample()\n",
    "print(S.x, S.y, end = \" \")"
   ]
  }
 ],
 "metadata": {
  "kernelspec": {
   "display_name": "Python 3",
   "language": "python",
   "name": "python3"
  },
  "language_info": {
   "codemirror_mode": {
    "name": "ipython",
    "version": 3
   },
   "file_extension": ".py",
   "mimetype": "text/x-python",
   "name": "python",
   "nbconvert_exporter": "python",
   "pygments_lexer": "ipython3",
   "version": "3.12.1"
  }
 },
 "nbformat": 4,
 "nbformat_minor": 2
}
